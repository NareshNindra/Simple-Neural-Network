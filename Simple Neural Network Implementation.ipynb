{
 "cells": [
  {
   "cell_type": "markdown",
   "metadata": {},
   "source": [
    "##  Neural Network"
   ]
  },
  {
   "attachments": {},
   "cell_type": "markdown",
   "metadata": {},
   "source": [
    "![title](figures/nural-network_3.gif)"
   ]
  },
  {
   "cell_type": "markdown",
   "metadata": {},
   "source": [
    "To understand Neural Networks we will start with simple single Neuron."
   ]
  },
  {
   "attachments": {},
   "cell_type": "markdown",
   "metadata": {},
   "source": [
    "![title](figures/SingleNeuron.jpg)"
   ]
  },
  {
   "cell_type": "markdown",
   "metadata": {},
   "source": [
    "Let me give an example. It's not a very realistic example, but it's easy to understand,You want to attend meetup, and are trying to decide whether or not to go to the meetup.\n",
    "\n",
    "Is it Regarding AI?\n",
    "Is the Speaker is Famous?\n",
    "Is that weekend?\n",
    "\n",
    "We can represent these three factors by corresponding binary variables x1,x2, and x3. For instance, we'd have x1=1 if the MeetUp regarding AI, and x1=0 if the Meetup not Regarding AI. Similarly, x2=1 if Speaker is Famous, and x2=0 if not. And similarly again for x3 and is that Weekend."
   ]
  },
  {
   "cell_type": "markdown",
   "metadata": {},
   "source": [
    "I'll Take a person Name Venkatesh. I'll give his past 4 meetups Data. "
   ]
  },
  {
   "attachments": {},
   "cell_type": "markdown",
   "metadata": {},
   "source": [
    "![title](figures/neural1.JPG)"
   ]
  },
  {
   "cell_type": "markdown",
   "metadata": {},
   "source": [
    "Can you able to predict for Below Given Data?"
   ]
  },
  {
   "attachments": {},
   "cell_type": "markdown",
   "metadata": {},
   "source": [
    "![title](figures/neural2.JPG)"
   ]
  },
  {
   "cell_type": "markdown",
   "metadata": {},
   "source": [
    "above Data have pattern. output values  are Strongly Relying on First Row .Let's try to solve using Simple Neuron Example"
   ]
  },
  {
   "cell_type": "code",
   "execution_count": 12,
   "metadata": {},
   "outputs": [],
   "source": [
    "import numpy as np\n"
   ]
  },
  {
   "cell_type": "code",
   "execution_count": 13,
   "metadata": {},
   "outputs": [
    {
     "name": "stdout",
     "output_type": "stream",
     "text": [
      "[[0 0 1]\n",
      " [1 1 1]\n",
      " [1 0 1]\n",
      " [0 1 1]]\n"
     ]
    }
   ],
   "source": [
    "# input dataset\n",
    "X = np.array([  [0,0,1],\n",
    "                [1,1,1],\n",
    "                [1,0,1],\n",
    "                [0,1,1] ])\n",
    "\n",
    "print(X)"
   ]
  },
  {
   "cell_type": "code",
   "execution_count": 14,
   "metadata": {},
   "outputs": [
    {
     "name": "stdout",
     "output_type": "stream",
     "text": [
      "[[0]\n",
      " [1]\n",
      " [1]\n",
      " [0]]\n"
     ]
    }
   ],
   "source": [
    "# output dataset            \n",
    "y = np.array([[0,1,1,0]]).T\n",
    "print(y)"
   ]
  },
  {
   "cell_type": "code",
   "execution_count": 15,
   "metadata": {},
   "outputs": [
    {
     "name": "stdout",
     "output_type": "stream",
     "text": [
      "[[0.93405968]\n",
      " [0.0944645 ]\n",
      " [0.94536872]]\n"
     ]
    }
   ],
   "source": [
    "#Generating Random Weights\n",
    "np.random.seed(4)\n",
    "syn_w = 2 * np.random.random((3, 1)) - 1\n",
    "print(syn_w)"
   ]
  },
  {
   "cell_type": "code",
   "execution_count": 16,
   "metadata": {},
   "outputs": [],
   "source": [
    "# sigmoid function\n",
    "def sigFunction(x,deriv=False):\n",
    "    if(deriv==True):\n",
    "        return x*(1-x)\n",
    "    return 1/(1+np.exp(-x))"
   ]
  },
  {
   "cell_type": "code",
   "execution_count": 17,
   "metadata": {},
   "outputs": [
    {
     "name": "stdout",
     "output_type": "stream",
     "text": [
      "Before Training calculated output with Random Weights\n",
      "[[0.72018284]\n",
      " [0.87802863]\n",
      " [0.86754546]\n",
      " [0.73881782]]\n"
     ]
    }
   ],
   "source": [
    "cy = sigFunction(np.dot(X,syn_w))\n",
    "print(\"Before Training calculated output with Random Weights\")\n",
    "print(cy)"
   ]
  },
  {
   "cell_type": "code",
   "execution_count": 18,
   "metadata": {},
   "outputs": [
    {
     "name": "stdout",
     "output_type": "stream",
     "text": [
      "Output After Training:\n",
      "[[0.0096693 ]\n",
      " [0.99211692]\n",
      " [0.99359219]\n",
      " [0.0078624 ]]\n",
      "Weights updated after Training\n",
      "[[ 9.67299484]\n",
      " [-0.20868674]\n",
      " [-4.62913458]]\n"
     ]
    }
   ],
   "source": [
    "\n",
    "\n",
    "for iter in range(10000):\n",
    "\n",
    "    cy = sigFunction(np.dot(X,syn_w))\n",
    "\n",
    "    # how much did we miss?\n",
    "    error = y - cy\n",
    "\n",
    "    # multiply how much we missed by the \n",
    "    # slope of the sigmoid at the values in cy\n",
    "    l1_delta = error * sigFunction(cy,True)\n",
    "\n",
    "    # update weights\n",
    "    syn_w += np.dot(X.T,l1_delta)\n",
    "\n",
    "print (\"Output After Training:\")\n",
    "print (cy)\n",
    "print (\"Weights updated after Training\")\n",
    "print(syn_w)"
   ]
  },
  {
   "cell_type": "code",
   "execution_count": 19,
   "metadata": {},
   "outputs": [
    {
     "data": {
      "text/plain": [
       "array([[0.007862]])"
      ]
     },
     "execution_count": 19,
     "metadata": {},
     "output_type": "execute_result"
    }
   ],
   "source": [
    "sigFunction(np.dot([[0,1,1]],syn_w))"
   ]
  },
  {
   "cell_type": "markdown",
   "metadata": {},
   "source": [
    "In This Situation He is Not Going to Attend Meetup"
   ]
  }
 ],
 "metadata": {
  "kernelspec": {
   "display_name": "Python 3",
   "language": "python",
   "name": "python3"
  },
  "language_info": {
   "codemirror_mode": {
    "name": "ipython",
    "version": 3
   },
   "file_extension": ".py",
   "mimetype": "text/x-python",
   "name": "python",
   "nbconvert_exporter": "python",
   "pygments_lexer": "ipython3",
   "version": "3.6.4"
  }
 },
 "nbformat": 4,
 "nbformat_minor": 2
}
